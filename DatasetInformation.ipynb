{
 "cells": [
  {
   "cell_type": "markdown",
   "metadata": {},
   "source": [
    "Artigo\n",
    "[High-Resolution Road Vehicle Collision Prediction\n",
    "for the City of Montreal](https://arxiv.org/pdf/1905.08770.pdf)\n",
    "\n",
    "Montreal\n",
    "[Página principal Collisions routières](http://donnees.ville.montreal.qc.ca/dataset/collisions-routieres)\n",
    "\n",
    "Dataset\n",
    "[Collision Routieres](http://donnees.ville.montreal.qc.ca/dataset/cd722e22-376b-4b89-9bc2-7c7ab317ef6b/resource/05deae93-d9fc-4acb-9779-e0942b5e962f/download/collisions_routieres.csv)\n",
    "\n",
    "Dicionário de dados\n",
    "[Dictionnaire](https://saaq.gouv.qc.ca/donnees-ouvertes/rapports-accident/rapports-accident-documentation.pdf)"
   ]
  },
  {
   "cell_type": "code",
   "execution_count": null,
   "metadata": {},
   "outputs": [],
   "source": []
  }
 ],
 "metadata": {
  "kernelspec": {
   "display_name": "Python",
   "language": "python",
   "name": "conda-env-python-py"
  },
  "language_info": {
   "codemirror_mode": {
    "name": "ipython",
    "version": 3
   },
   "file_extension": ".py",
   "mimetype": "text/x-python",
   "name": "python",
   "nbconvert_exporter": "python",
   "pygments_lexer": "ipython3",
   "version": "3.6.11"
  }
 },
 "nbformat": 4,
 "nbformat_minor": 4
}
